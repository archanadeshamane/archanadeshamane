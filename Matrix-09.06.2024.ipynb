{
 "cells": [
  {
   "cell_type": "code",
   "execution_count": null,
   "id": "cff065a2-e7c9-4977-a6fc-7a8dcad3ca24",
   "metadata": {},
   "outputs": [],
   "source": [
    "##Creating Matrix"
   ]
  },
  {
   "cell_type": "code",
   "execution_count": 68,
   "id": "6190aa9e-ceb4-473b-9caa-c3e85bb4df74",
   "metadata": {},
   "outputs": [],
   "source": [
    "import numpy as np"
   ]
  },
  {
   "cell_type": "code",
   "execution_count": 69,
   "id": "64f375b8-f5c7-4b55-b3a6-4aeb524b49e5",
   "metadata": {},
   "outputs": [],
   "source": [
    "M1 = np.array([[3,4,5],[7,1,9]])"
   ]
  },
  {
   "cell_type": "code",
   "execution_count": 70,
   "id": "77812554-9047-4e58-a58a-fd2567e9bbf4",
   "metadata": {},
   "outputs": [
    {
     "data": {
      "text/plain": [
       "array([[3, 4, 5],\n",
       "       [7, 1, 9]])"
      ]
     },
     "execution_count": 70,
     "metadata": {},
     "output_type": "execute_result"
    }
   ],
   "source": [
    "M1"
   ]
  },
  {
   "cell_type": "code",
   "execution_count": 73,
   "id": "2dd9dde7-99a5-474b-80d8-454ce804c5cf",
   "metadata": {},
   "outputs": [
    {
     "data": {
      "text/plain": [
       "(2, 3)"
      ]
     },
     "execution_count": 73,
     "metadata": {},
     "output_type": "execute_result"
    }
   ],
   "source": [
    "M1.shape"
   ]
  },
  {
   "cell_type": "code",
   "execution_count": 72,
   "id": "7c644fad-218f-4da9-9544-acbe2091d47e",
   "metadata": {},
   "outputs": [],
   "source": [
    "M2 = np.array([[3,4],[7,9],[6,2],[8,5]])"
   ]
  },
  {
   "cell_type": "code",
   "execution_count": 75,
   "id": "ea3c84cb-b687-4c19-95c4-c9e58ad26fa7",
   "metadata": {},
   "outputs": [
    {
     "data": {
      "text/plain": [
       "array([[3, 4],\n",
       "       [7, 9],\n",
       "       [6, 2],\n",
       "       [8, 5]])"
      ]
     },
     "execution_count": 75,
     "metadata": {},
     "output_type": "execute_result"
    }
   ],
   "source": [
    "M2"
   ]
  },
  {
   "cell_type": "code",
   "execution_count": 74,
   "id": "a9752e66-e87a-4284-9567-433a3a7af557",
   "metadata": {},
   "outputs": [
    {
     "data": {
      "text/plain": [
       "(4, 2)"
      ]
     },
     "execution_count": 74,
     "metadata": {},
     "output_type": "execute_result"
    }
   ],
   "source": [
    "M2.shape"
   ]
  },
  {
   "cell_type": "code",
   "execution_count": null,
   "id": "fd4550a9-2920-42d7-ae53-477c15508889",
   "metadata": {},
   "outputs": [],
   "source": [
    "Types of Matrices"
   ]
  },
  {
   "cell_type": "code",
   "execution_count": null,
   "id": "e06d80ab-08d3-4792-b1d0-c1ba701dfdd0",
   "metadata": {},
   "outputs": [],
   "source": [
    "#Row matrix"
   ]
  },
  {
   "cell_type": "code",
   "execution_count": 83,
   "id": "bdef76d8-e6fd-4681-979a-a17c69c00505",
   "metadata": {},
   "outputs": [],
   "source": [
    "R = np.array([[4,7,4,2,7,8]])"
   ]
  },
  {
   "cell_type": "code",
   "execution_count": 84,
   "id": "5acdeafb-328d-4e8c-bf70-28bf4b5f6e1c",
   "metadata": {},
   "outputs": [
    {
     "data": {
      "text/plain": [
       "array([[4, 7, 4, 2, 7, 8]])"
      ]
     },
     "execution_count": 84,
     "metadata": {},
     "output_type": "execute_result"
    }
   ],
   "source": [
    "R"
   ]
  },
  {
   "cell_type": "code",
   "execution_count": 85,
   "id": "7211c44c-330a-47c1-84c7-79c6f5d6e209",
   "metadata": {},
   "outputs": [
    {
     "data": {
      "text/plain": [
       "(1, 6)"
      ]
     },
     "execution_count": 85,
     "metadata": {},
     "output_type": "execute_result"
    }
   ],
   "source": [
    "R.shape"
   ]
  },
  {
   "cell_type": "code",
   "execution_count": 86,
   "id": "3fec19f7-a427-48f1-b071-448f73219293",
   "metadata": {},
   "outputs": [
    {
     "data": {
      "text/plain": [
       "numpy.ndarray"
      ]
     },
     "execution_count": 86,
     "metadata": {},
     "output_type": "execute_result"
    }
   ],
   "source": [
    "type(R)"
   ]
  },
  {
   "cell_type": "code",
   "execution_count": 88,
   "id": "db24bc75-ffc9-4f14-beb7-31c8794525f6",
   "metadata": {},
   "outputs": [
    {
     "data": {
      "text/plain": [
       "array([[4, 7],\n",
       "       [4, 2],\n",
       "       [7, 8]])"
      ]
     },
     "execution_count": 88,
     "metadata": {},
     "output_type": "execute_result"
    }
   ],
   "source": [
    "R.reshape(3,2)"
   ]
  },
  {
   "cell_type": "code",
   "execution_count": 67,
   "id": "9b32085f-8beb-4363-98ae-7ee96d0c9440",
   "metadata": {},
   "outputs": [],
   "source": [
    "c = np.array([[4],[7],[4],[2],[7],[8]])"
   ]
  },
  {
   "cell_type": "code",
   "execution_count": null,
   "id": "2626a2ca-7be6-4de4-80ca-81a1104dff7c",
   "metadata": {},
   "outputs": [],
   "source": [
    "#Column matrix"
   ]
  },
  {
   "cell_type": "code",
   "execution_count": 89,
   "id": "6f0dd551-1d04-4589-973d-13f4014d769e",
   "metadata": {},
   "outputs": [],
   "source": [
    "C = np.array([[4],[7],[4],[2],[7],[8]])"
   ]
  },
  {
   "cell_type": "code",
   "execution_count": 90,
   "id": "80afefc1-b85e-4cab-abf7-30f8d4c32098",
   "metadata": {},
   "outputs": [
    {
     "data": {
      "text/plain": [
       "array([[4],\n",
       "       [7],\n",
       "       [4],\n",
       "       [2],\n",
       "       [7],\n",
       "       [8]])"
      ]
     },
     "execution_count": 90,
     "metadata": {},
     "output_type": "execute_result"
    }
   ],
   "source": [
    "C"
   ]
  },
  {
   "cell_type": "code",
   "execution_count": 91,
   "id": "e9190d3e-ae0c-4e2c-879c-c62311613605",
   "metadata": {},
   "outputs": [
    {
     "data": {
      "text/plain": [
       "(6, 1)"
      ]
     },
     "execution_count": 91,
     "metadata": {},
     "output_type": "execute_result"
    }
   ],
   "source": [
    "C.shape"
   ]
  },
  {
   "cell_type": "code",
   "execution_count": 92,
   "id": "4c506ac9-6665-4734-897f-68e1277d2627",
   "metadata": {},
   "outputs": [
    {
     "data": {
      "text/plain": [
       "array([[4, 7],\n",
       "       [4, 2],\n",
       "       [7, 8]])"
      ]
     },
     "execution_count": 92,
     "metadata": {},
     "output_type": "execute_result"
    }
   ],
   "source": [
    "C.reshape(3,2)"
   ]
  },
  {
   "cell_type": "code",
   "execution_count": 93,
   "id": "a031b906-1a0c-4eca-a9d2-2efcb59992fa",
   "metadata": {},
   "outputs": [
    {
     "data": {
      "text/plain": [
       "array([[4],\n",
       "       [7],\n",
       "       [4],\n",
       "       [2],\n",
       "       [7],\n",
       "       [8]])"
      ]
     },
     "execution_count": 93,
     "metadata": {},
     "output_type": "execute_result"
    }
   ],
   "source": [
    "C.reshape(6,1)"
   ]
  },
  {
   "cell_type": "code",
   "execution_count": 94,
   "id": "b2016526-38e1-49b6-9737-3c093dcbbcd8",
   "metadata": {},
   "outputs": [
    {
     "data": {
      "text/plain": [
       "array([[4, 7, 4, 2, 7, 8]])"
      ]
     },
     "execution_count": 94,
     "metadata": {},
     "output_type": "execute_result"
    }
   ],
   "source": [
    "C.reshape(1,6)"
   ]
  },
  {
   "cell_type": "code",
   "execution_count": 95,
   "id": "ea4418e2-369b-4dc0-994c-24911ae2f9dc",
   "metadata": {},
   "outputs": [
    {
     "data": {
      "text/plain": [
       "array([[4, 7, 4, 2, 7, 8]])"
      ]
     },
     "execution_count": 95,
     "metadata": {},
     "output_type": "execute_result"
    }
   ],
   "source": [
    "C.T"
   ]
  },
  {
   "cell_type": "code",
   "execution_count": 96,
   "id": "1eb52db0-bb47-49a1-a796-2e8f6d096b0b",
   "metadata": {},
   "outputs": [
    {
     "data": {
      "text/plain": [
       "array([[4],\n",
       "       [7],\n",
       "       [4],\n",
       "       [2],\n",
       "       [7],\n",
       "       [8]])"
      ]
     },
     "execution_count": 96,
     "metadata": {},
     "output_type": "execute_result"
    }
   ],
   "source": [
    "R.T"
   ]
  },
  {
   "cell_type": "code",
   "execution_count": null,
   "id": "bc9a6d14-2622-42ed-8595-2d906e74a3e0",
   "metadata": {},
   "outputs": [],
   "source": [
    "##Square matrix"
   ]
  },
  {
   "cell_type": "code",
   "execution_count": 98,
   "id": "ad333bdf-3a4f-4b33-8401-783de101a59f",
   "metadata": {},
   "outputs": [],
   "source": [
    "M1=np.array([[5,6,7],[2,8,9],[2,1,4]])"
   ]
  },
  {
   "cell_type": "code",
   "execution_count": 99,
   "id": "b18eec20-cec9-493d-aa3f-e65bda6a71d8",
   "metadata": {},
   "outputs": [
    {
     "data": {
      "text/plain": [
       "array([[5, 6, 7],\n",
       "       [2, 8, 9],\n",
       "       [2, 1, 4]])"
      ]
     },
     "execution_count": 99,
     "metadata": {},
     "output_type": "execute_result"
    }
   ],
   "source": [
    "M1"
   ]
  },
  {
   "cell_type": "code",
   "execution_count": 100,
   "id": "a91f85af-e571-4bef-9313-82276d9cb96e",
   "metadata": {},
   "outputs": [],
   "source": [
    "def isSquareMatrix(M):\n",
    "    if M.shape[0] == M.shape[1]:\n",
    "        return True\n",
    "    else:\n",
    "        return False"
   ]
  },
  {
   "cell_type": "code",
   "execution_count": 101,
   "id": "e5e0fcfa-c468-495c-a617-45200e6e556f",
   "metadata": {},
   "outputs": [
    {
     "data": {
      "text/plain": [
       "True"
      ]
     },
     "execution_count": 101,
     "metadata": {},
     "output_type": "execute_result"
    }
   ],
   "source": [
    "isSquareMatrix(M1)"
   ]
  },
  {
   "cell_type": "code",
   "execution_count": 102,
   "id": "a93f8442-0fbe-44da-acd9-df981ed447b1",
   "metadata": {},
   "outputs": [
    {
     "data": {
      "text/plain": [
       "False"
      ]
     },
     "execution_count": 102,
     "metadata": {},
     "output_type": "execute_result"
    }
   ],
   "source": [
    "isSquareMatrix(R)"
   ]
  },
  {
   "cell_type": "code",
   "execution_count": 103,
   "id": "ec87aeed-60de-4d0c-88fd-2c14cbdd4830",
   "metadata": {},
   "outputs": [],
   "source": [
    "M2 = np.array([[5,6,7],[2,8,9]])"
   ]
  },
  {
   "cell_type": "code",
   "execution_count": 104,
   "id": "9438c4e7-d792-4a32-a7f1-c9affc5b19d0",
   "metadata": {},
   "outputs": [
    {
     "data": {
      "text/plain": [
       "array([[5, 6, 7],\n",
       "       [2, 8, 9]])"
      ]
     },
     "execution_count": 104,
     "metadata": {},
     "output_type": "execute_result"
    }
   ],
   "source": [
    "M2"
   ]
  },
  {
   "cell_type": "code",
   "execution_count": 105,
   "id": "17fdfc3c-073d-441b-8086-35b6c441d7fc",
   "metadata": {},
   "outputs": [],
   "source": [
    "def isRectangularMatrix(M):\n",
    "    if M.shape[0] == M.shape[1]:\n",
    "        return False\n",
    "    else:\n",
    "        return True"
   ]
  },
  {
   "cell_type": "code",
   "execution_count": 106,
   "id": "0e29afb3-5e33-4df1-8eeb-a650d582df46",
   "metadata": {},
   "outputs": [
    {
     "data": {
      "text/plain": [
       "False"
      ]
     },
     "execution_count": 106,
     "metadata": {},
     "output_type": "execute_result"
    }
   ],
   "source": [
    "isRectangularMatrix(M1)"
   ]
  },
  {
   "cell_type": "code",
   "execution_count": 107,
   "id": "92c471aa-10ce-41f3-b54d-b9ba31da991c",
   "metadata": {},
   "outputs": [
    {
     "data": {
      "text/plain": [
       "True"
      ]
     },
     "execution_count": 107,
     "metadata": {},
     "output_type": "execute_result"
    }
   ],
   "source": [
    "isRectangularMatrix(M2)"
   ]
  },
  {
   "cell_type": "code",
   "execution_count": 108,
   "id": "3220b1da-6a25-4f7d-929b-4f2cd3b9312f",
   "metadata": {},
   "outputs": [
    {
     "data": {
      "text/plain": [
       "array([[5, 6, 7],\n",
       "       [2, 8, 9],\n",
       "       [2, 1, 4]])"
      ]
     },
     "execution_count": 108,
     "metadata": {},
     "output_type": "execute_result"
    }
   ],
   "source": [
    "M1"
   ]
  },
  {
   "cell_type": "code",
   "execution_count": 16,
   "id": "ca1fac04-47e4-4e24-8693-26479794f24c",
   "metadata": {},
   "outputs": [
    {
     "data": {
      "text/plain": [
       "(3, 3)"
      ]
     },
     "execution_count": 16,
     "metadata": {},
     "output_type": "execute_result"
    }
   ],
   "source": [
    "M1.shape"
   ]
  },
  {
   "cell_type": "code",
   "execution_count": 17,
   "id": "40877799-dde1-4910-bb46-6cffee0cf2ad",
   "metadata": {},
   "outputs": [
    {
     "data": {
      "text/plain": [
       "array([5, 6, 7])"
      ]
     },
     "execution_count": 17,
     "metadata": {},
     "output_type": "execute_result"
    }
   ],
   "source": [
    "M1[0]"
   ]
  },
  {
   "cell_type": "code",
   "execution_count": 126,
   "id": "8497ec39-ed27-4208-8e7f-ec9e8b6439f0",
   "metadata": {},
   "outputs": [],
   "source": [
    "M3=np.zeros([4,4], dtype=np.int8)"
   ]
  },
  {
   "cell_type": "code",
   "execution_count": 127,
   "id": "f0e05a6f-46a5-4ed8-97ac-8efd89751bcd",
   "metadata": {},
   "outputs": [
    {
     "data": {
      "text/plain": [
       "array([[0, 0, 0, 0],\n",
       "       [0, 0, 0, 0],\n",
       "       [0, 0, 0, 0],\n",
       "       [0, 0, 0, 0]], dtype=int8)"
      ]
     },
     "execution_count": 127,
     "metadata": {},
     "output_type": "execute_result"
    }
   ],
   "source": [
    "M3"
   ]
  },
  {
   "cell_type": "code",
   "execution_count": 128,
   "id": "eb425eb7-4e85-4abe-92fc-bfceeb113b0b",
   "metadata": {},
   "outputs": [],
   "source": [
    "M3 = M3 + 4"
   ]
  },
  {
   "cell_type": "code",
   "execution_count": 129,
   "id": "45f8ebb8-4bf6-483d-8c33-a9756d06816b",
   "metadata": {},
   "outputs": [
    {
     "data": {
      "text/plain": [
       "array([[4, 4, 4, 4],\n",
       "       [4, 4, 4, 4],\n",
       "       [4, 4, 4, 4],\n",
       "       [4, 4, 4, 4]], dtype=int8)"
      ]
     },
     "execution_count": 129,
     "metadata": {},
     "output_type": "execute_result"
    }
   ],
   "source": [
    "M3"
   ]
  },
  {
   "cell_type": "code",
   "execution_count": null,
   "id": "0c30c9bf-bda4-44e0-aef6-7b5b14337366",
   "metadata": {},
   "outputs": [],
   "source": [
    "##Diagonal matrix"
   ]
  },
  {
   "cell_type": "code",
   "execution_count": 130,
   "id": "ae77ccff-c3f5-4529-bba0-9fb0ddb3bf46",
   "metadata": {},
   "outputs": [],
   "source": [
    "D = np.array([[1,0,0],[0,8,0],[0,0,9]])"
   ]
  },
  {
   "cell_type": "code",
   "execution_count": 131,
   "id": "fc0f6fb1-c24e-4428-b1ff-f6ea18554e88",
   "metadata": {},
   "outputs": [
    {
     "data": {
      "text/plain": [
       "array([[1, 0, 0],\n",
       "       [0, 8, 0],\n",
       "       [0, 0, 9]])"
      ]
     },
     "execution_count": 131,
     "metadata": {},
     "output_type": "execute_result"
    }
   ],
   "source": [
    "D"
   ]
  },
  {
   "cell_type": "code",
   "execution_count": 132,
   "id": "2887d075-15b9-4d3d-8111-5d604b1d7ca3",
   "metadata": {},
   "outputs": [],
   "source": [
    "D=np.zeros([4,4], dtype=np.int8)"
   ]
  },
  {
   "cell_type": "code",
   "execution_count": 133,
   "id": "4ab528d5-7b43-45e2-940d-b2f4a95ba872",
   "metadata": {},
   "outputs": [
    {
     "data": {
      "text/plain": [
       "array([[0, 0, 0, 0],\n",
       "       [0, 0, 0, 0],\n",
       "       [0, 0, 0, 0],\n",
       "       [0, 0, 0, 0]], dtype=int8)"
      ]
     },
     "execution_count": 133,
     "metadata": {},
     "output_type": "execute_result"
    }
   ],
   "source": [
    "D"
   ]
  },
  {
   "cell_type": "code",
   "execution_count": 134,
   "id": "9614fd92-37f4-43b1-98a2-d6ad6f010cd2",
   "metadata": {},
   "outputs": [],
   "source": [
    "for i in range(4):\n",
    "    D[i][i] = 6"
   ]
  },
  {
   "cell_type": "code",
   "execution_count": 135,
   "id": "093228ec-adaf-4508-8286-2dd943c5df7b",
   "metadata": {},
   "outputs": [
    {
     "data": {
      "text/plain": [
       "array([[6, 0, 0, 0],\n",
       "       [0, 6, 0, 0],\n",
       "       [0, 0, 6, 0],\n",
       "       [0, 0, 0, 6]], dtype=int8)"
      ]
     },
     "execution_count": 135,
     "metadata": {},
     "output_type": "execute_result"
    }
   ],
   "source": [
    "D"
   ]
  },
  {
   "cell_type": "code",
   "execution_count": 151,
   "id": "b39baf12-5a6f-48c3-84c6-c3f733a59b60",
   "metadata": {},
   "outputs": [
    {
     "name": "stdout",
     "output_type": "stream",
     "text": [
      "6\n",
      "0\n",
      "0\n",
      "0\n",
      "0\n",
      "6\n",
      "0\n",
      "0\n",
      "0\n",
      "0\n",
      "6\n",
      "0\n",
      "0\n",
      "0\n",
      "0\n",
      "6\n"
     ]
    }
   ],
   "source": [
    "for i in range(D.shape[0]):\n",
    "    for j in range(D.shape[1]):\n",
    "        print(D[i][j])"
   ]
  },
  {
   "cell_type": "code",
   "execution_count": 148,
   "id": "f0f8d982-506b-4108-ad7a-0cfbe00fe43a",
   "metadata": {},
   "outputs": [],
   "source": [
    "def isDiagonalMatrix(M):\n",
    "    for i in range(M.shape[0]):\n",
    "        for j in range(M.shape[1]):\n",
    "            if i != j and M[i][j] != 0:\n",
    "                return False\n",
    "    return True"
   ]
  },
  {
   "cell_type": "code",
   "execution_count": 149,
   "id": "e5e3e228-cd87-4fc9-b1fb-1f9add9dadec",
   "metadata": {},
   "outputs": [
    {
     "data": {
      "text/plain": [
       "True"
      ]
     },
     "execution_count": 149,
     "metadata": {},
     "output_type": "execute_result"
    }
   ],
   "source": [
    "isDiagonalMatrix(D)"
   ]
  },
  {
   "cell_type": "code",
   "execution_count": 150,
   "id": "41077fcc-66b7-4568-b42e-3aaf85b61174",
   "metadata": {},
   "outputs": [
    {
     "data": {
      "text/plain": [
       "False"
      ]
     },
     "execution_count": 150,
     "metadata": {},
     "output_type": "execute_result"
    }
   ],
   "source": [
    "isDiagonalMatrix(M1)"
   ]
  },
  {
   "cell_type": "code",
   "execution_count": null,
   "id": "bc57926f-c246-4969-95f9-75a4b32e83f8",
   "metadata": {},
   "outputs": [],
   "source": [
    "## Identity matrix"
   ]
  },
  {
   "cell_type": "code",
   "execution_count": 39,
   "id": "82f1085e-0ca0-49a0-8b0b-e8f7ea6fdb22",
   "metadata": {},
   "outputs": [],
   "source": [
    "I = np.zeros([4,4], dtype=np.int8)"
   ]
  },
  {
   "cell_type": "code",
   "execution_count": 40,
   "id": "73629843-5134-4690-aa1c-4c7746520cf1",
   "metadata": {},
   "outputs": [
    {
     "data": {
      "text/plain": [
       "array([[0, 0, 0, 0],\n",
       "       [0, 0, 0, 0],\n",
       "       [0, 0, 0, 0],\n",
       "       [0, 0, 0, 0]], dtype=int8)"
      ]
     },
     "execution_count": 40,
     "metadata": {},
     "output_type": "execute_result"
    }
   ],
   "source": [
    "I"
   ]
  },
  {
   "cell_type": "code",
   "execution_count": 152,
   "id": "71b558c5-60ae-4e8d-824b-b2e9cd76fc16",
   "metadata": {},
   "outputs": [],
   "source": [
    "for i in range(4):\n",
    "    I[i][i]= 1"
   ]
  },
  {
   "cell_type": "code",
   "execution_count": 153,
   "id": "f100c321-d1dc-4c47-b4bd-634688aa3caa",
   "metadata": {},
   "outputs": [
    {
     "data": {
      "text/plain": [
       "array([[1, 0, 0, 0],\n",
       "       [0, 1, 0, 0],\n",
       "       [0, 0, 1, 0],\n",
       "       [0, 0, 0, 1]], dtype=int8)"
      ]
     },
     "execution_count": 153,
     "metadata": {},
     "output_type": "execute_result"
    }
   ],
   "source": [
    "I"
   ]
  },
  {
   "cell_type": "code",
   "execution_count": 44,
   "id": "b64b5c3b-5560-42a6-82ca-7f59cc715638",
   "metadata": {},
   "outputs": [
    {
     "data": {
      "text/plain": [
       "array([1, 1, 1, 1], dtype=int8)"
      ]
     },
     "execution_count": 44,
     "metadata": {},
     "output_type": "execute_result"
    }
   ],
   "source": [
    "I.diagonal()"
   ]
  },
  {
   "cell_type": "code",
   "execution_count": 154,
   "id": "f214af2f-8f36-4b4b-99b7-7493775970f9",
   "metadata": {},
   "outputs": [
    {
     "data": {
      "text/plain": [
       "array([1, 1, 1, 1], dtype=int8)"
      ]
     },
     "execution_count": 154,
     "metadata": {},
     "output_type": "execute_result"
    }
   ],
   "source": [
    "np.diag(I)"
   ]
  },
  {
   "cell_type": "code",
   "execution_count": null,
   "id": "bee47c7b-8701-4b65-b34e-d5dfad3303e6",
   "metadata": {},
   "outputs": [],
   "source": [
    "##Symmetric matrix"
   ]
  },
  {
   "cell_type": "code",
   "execution_count": 46,
   "id": "57da6de2-e1be-4126-b98b-21f4dac311a8",
   "metadata": {},
   "outputs": [],
   "source": [
    "S1 = np.array([[2,3,6],[3,4,5],[6,5,9]])"
   ]
  },
  {
   "cell_type": "code",
   "execution_count": 47,
   "id": "2b9d95e4-8637-476f-85ef-d8d2a423c725",
   "metadata": {},
   "outputs": [
    {
     "data": {
      "text/plain": [
       "array([[2, 3, 6],\n",
       "       [3, 4, 5],\n",
       "       [6, 5, 9]])"
      ]
     },
     "execution_count": 47,
     "metadata": {},
     "output_type": "execute_result"
    }
   ],
   "source": [
    "S1"
   ]
  },
  {
   "cell_type": "code",
   "execution_count": 48,
   "id": "dab2bfdc-0c21-4000-96dc-5dbd34ca145c",
   "metadata": {},
   "outputs": [
    {
     "data": {
      "text/plain": [
       "array([[2, 3, 6],\n",
       "       [3, 4, 5],\n",
       "       [6, 5, 9]])"
      ]
     },
     "execution_count": 48,
     "metadata": {},
     "output_type": "execute_result"
    }
   ],
   "source": [
    "S1.T"
   ]
  },
  {
   "cell_type": "code",
   "execution_count": 49,
   "id": "da2dddc4-8de6-486a-9d8a-b14609154aa4",
   "metadata": {},
   "outputs": [
    {
     "data": {
      "text/plain": [
       "array([[ True,  True,  True],\n",
       "       [ True,  True,  True],\n",
       "       [ True,  True,  True]])"
      ]
     },
     "execution_count": 49,
     "metadata": {},
     "output_type": "execute_result"
    }
   ],
   "source": [
    "S1 == S1.T"
   ]
  },
  {
   "cell_type": "code",
   "execution_count": 50,
   "id": "3d822fad-1dc8-43f1-a209-cf2c5c19d059",
   "metadata": {},
   "outputs": [
    {
     "data": {
      "text/plain": [
       "9"
      ]
     },
     "execution_count": 50,
     "metadata": {},
     "output_type": "execute_result"
    }
   ],
   "source": [
    "(S1 == S1.T).sum()"
   ]
  },
  {
   "cell_type": "code",
   "execution_count": 52,
   "id": "08fde65a-88a5-4c29-8171-ddcb893ad4c0",
   "metadata": {},
   "outputs": [
    {
     "data": {
      "text/plain": [
       "9"
      ]
     },
     "execution_count": 52,
     "metadata": {},
     "output_type": "execute_result"
    }
   ],
   "source": [
    "S1.size"
   ]
  },
  {
   "cell_type": "code",
   "execution_count": 53,
   "id": "7bbdef07-1f0b-4222-9742-476872127fec",
   "metadata": {},
   "outputs": [],
   "source": [
    "def isSymmetricMatrix(M):\n",
    "    if (M==M.T).sum() == M.size:\n",
    "        return True\n",
    "    else:\n",
    "        return False"
   ]
  },
  {
   "cell_type": "code",
   "execution_count": 54,
   "id": "c7bfaa07-f245-4077-b263-93159cd73c4c",
   "metadata": {},
   "outputs": [
    {
     "data": {
      "text/plain": [
       "True"
      ]
     },
     "execution_count": 54,
     "metadata": {},
     "output_type": "execute_result"
    }
   ],
   "source": [
    "isSymmetricMatrix(S1)"
   ]
  },
  {
   "cell_type": "code",
   "execution_count": 55,
   "id": "eb0518ef-07e8-4ace-ba67-46a91e47e4e3",
   "metadata": {},
   "outputs": [
    {
     "data": {
      "text/plain": [
       "False"
      ]
     },
     "execution_count": 55,
     "metadata": {},
     "output_type": "execute_result"
    }
   ],
   "source": [
    "isSymmetricMatrix(M1)"
   ]
  },
  {
   "cell_type": "code",
   "execution_count": null,
   "id": "b20411e1-0f3c-4e4f-a99f-5515e5b0d2ff",
   "metadata": {},
   "outputs": [],
   "source": [
    "Skew-symmetric matrix"
   ]
  },
  {
   "cell_type": "code",
   "execution_count": 56,
   "id": "054a05ff-b080-4837-9da7-068bf960a9da",
   "metadata": {},
   "outputs": [],
   "source": [
    "S2 = np.array([[0,3],[-3,0]])"
   ]
  },
  {
   "cell_type": "code",
   "execution_count": 57,
   "id": "88d2f041-0195-42ff-9fce-0fc9eee8200d",
   "metadata": {},
   "outputs": [
    {
     "data": {
      "text/plain": [
       "array([[ 0,  3],\n",
       "       [-3,  0]])"
      ]
     },
     "execution_count": 57,
     "metadata": {},
     "output_type": "execute_result"
    }
   ],
   "source": [
    "S2"
   ]
  },
  {
   "cell_type": "code",
   "execution_count": 58,
   "id": "47ad777c-1614-43cf-b878-75625c875a45",
   "metadata": {},
   "outputs": [
    {
     "data": {
      "text/plain": [
       "array([[ 0, -3],\n",
       "       [ 3,  0]])"
      ]
     },
     "execution_count": 58,
     "metadata": {},
     "output_type": "execute_result"
    }
   ],
   "source": [
    "S2.T"
   ]
  },
  {
   "cell_type": "code",
   "execution_count": 59,
   "id": "5bc072be-50ed-4c16-86b1-9d9de688e699",
   "metadata": {},
   "outputs": [
    {
     "data": {
      "text/plain": [
       "array([[ 0, -3],\n",
       "       [ 3,  0]])"
      ]
     },
     "execution_count": 59,
     "metadata": {},
     "output_type": "execute_result"
    }
   ],
   "source": [
    "-S2"
   ]
  },
  {
   "cell_type": "code",
   "execution_count": null,
   "id": "3aa8ff12-154e-465d-9d1f-a12c2abe363c",
   "metadata": {},
   "outputs": [],
   "source": [
    "##Eigenvector and Eigenvalues"
   ]
  },
  {
   "cell_type": "code",
   "execution_count": 60,
   "id": "4ed0d4f4-bc69-45cf-a0ce-00b593a53f74",
   "metadata": {},
   "outputs": [],
   "source": [
    "A= np.array([[-6,3],[4,5]])"
   ]
  },
  {
   "cell_type": "code",
   "execution_count": 61,
   "id": "31c3291a-3c61-41b8-959b-0849ad00c9ec",
   "metadata": {},
   "outputs": [
    {
     "data": {
      "text/plain": [
       "array([[-6,  3],\n",
       "       [ 4,  5]])"
      ]
     },
     "execution_count": 61,
     "metadata": {},
     "output_type": "execute_result"
    }
   ],
   "source": [
    "A"
   ]
  },
  {
   "cell_type": "code",
   "execution_count": 62,
   "id": "f6096d4d-9c58-4062-a134-e1b8473aad31",
   "metadata": {},
   "outputs": [],
   "source": [
    "#calculate eigenvalue and eigenvector\n",
    "eval, evect = np.linalg.eig(A)"
   ]
  },
  {
   "cell_type": "code",
   "execution_count": 63,
   "id": "48b340fa-da08-4129-970e-420dedf9b5b0",
   "metadata": {},
   "outputs": [
    {
     "data": {
      "text/plain": [
       "array([[-0.9486833 , -0.24253563],\n",
       "       [ 0.31622777, -0.9701425 ]])"
      ]
     },
     "execution_count": 63,
     "metadata": {},
     "output_type": "execute_result"
    }
   ],
   "source": [
    "evect"
   ]
  },
  {
   "cell_type": "code",
   "execution_count": 64,
   "id": "cff84983-7b83-48cd-b622-f4a6f17cb048",
   "metadata": {},
   "outputs": [
    {
     "data": {
      "text/plain": [
       "array([-7.,  6.])"
      ]
     },
     "execution_count": 64,
     "metadata": {},
     "output_type": "execute_result"
    }
   ],
   "source": [
    "eval"
   ]
  },
  {
   "cell_type": "code",
   "execution_count": 65,
   "id": "f753eb52-cf57-4b74-8d6c-88aaff95329c",
   "metadata": {},
   "outputs": [
    {
     "data": {
      "text/plain": [
       "array([[ 6.64078309, -1.45521375],\n",
       "       [-2.21359436, -5.820855  ]])"
      ]
     },
     "execution_count": 65,
     "metadata": {},
     "output_type": "execute_result"
    }
   ],
   "source": [
    "A @ evect"
   ]
  },
  {
   "cell_type": "code",
   "execution_count": 66,
   "id": "1c4c5fa0-d3f0-4b41-b90b-179220edff4a",
   "metadata": {},
   "outputs": [
    {
     "data": {
      "text/plain": [
       "array([[ 6.64078309, -1.45521375],\n",
       "       [-2.21359436, -5.820855  ]])"
      ]
     },
     "execution_count": 66,
     "metadata": {},
     "output_type": "execute_result"
    }
   ],
   "source": [
    "eval * evect"
   ]
  }
 ],
 "metadata": {
  "kernelspec": {
   "display_name": "Python 3 (ipykernel)",
   "language": "python",
   "name": "python3"
  },
  "language_info": {
   "codemirror_mode": {
    "name": "ipython",
    "version": 3
   },
   "file_extension": ".py",
   "mimetype": "text/x-python",
   "name": "python",
   "nbconvert_exporter": "python",
   "pygments_lexer": "ipython3",
   "version": "3.11.7"
  }
 },
 "nbformat": 4,
 "nbformat_minor": 5
}
